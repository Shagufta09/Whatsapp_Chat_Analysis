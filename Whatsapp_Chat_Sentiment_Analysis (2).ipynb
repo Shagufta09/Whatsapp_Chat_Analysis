{
  "nbformat": 4,
  "nbformat_minor": 0,
  "metadata": {
    "colab": {
      "provenance": []
    },
    "kernelspec": {
      "name": "python3",
      "display_name": "Python 3"
    },
    "language_info": {
      "name": "python"
    }
  },
  "cells": [
    {
      "cell_type": "code",
      "source": [
        "!pip install emoji"
      ],
      "metadata": {
        "colab": {
          "base_uri": "https://localhost:8080/"
        },
        "id": "vDNaDQSOh2hJ",
        "outputId": "8007d920-8794-4c53-a46e-ef538c1bd249"
      },
      "execution_count": null,
      "outputs": [
        {
          "output_type": "stream",
          "name": "stdout",
          "text": [
            "Requirement already satisfied: emoji in /usr/local/lib/python3.10/dist-packages (2.10.1)\n"
          ]
        }
      ]
    },
    {
      "cell_type": "code",
      "execution_count": null,
      "metadata": {
        "id": "BuKAmhOMJ8at"
      },
      "outputs": [],
      "source": [
        "import re #For Regular Expression like #,@,$.....\n",
        "import regex\n",
        "import numpy as np\n",
        "import pandas as pd\n",
        "import emoji #convert Unicode emojis to a string version, and vice versa.\n",
        "from collections import Counter #counting the occurrences of elements in an iterable\n",
        "import matplotlib.pyplot as plt\n",
        "from PIL import Image #Python Imaging Library (PIL) allows you to work with images in various formats\n",
        "import datetime  #manipulating dates and times\n",
        "import plotly.express as px #creating complex visualizations easy and intuitive.\n",
        "from os import path #provides functions for working with file paths\n",
        "from wordcloud import WordCloud,STOPWORDS,ImageColorGenerator # create word clouds, which are visual representations of text data where the size of each word indicates its frequency or importance.stopwords removal (STOPWORDS), color generation based on an image (ImageColorGenerator)"
      ]
    },
    {
      "cell_type": "markdown",
      "source": [
        "# Preprocess The Data"
      ],
      "metadata": {
        "id": "C1-zTfLE-aEm"
      }
    },
    {
      "cell_type": "code",
      "source": [
        "# Extract the Date time\n",
        "def date_time(s):\n",
        "    pattern='^([0-9]{2})\\/([0-9]{2})\\/([0-9]{2}), ([0-9]{1,2}):([0-9]{2})\\s?(am|pm|AM|PM)? -'\n",
        "    result=re.match(pattern, s)\n",
        "    if result:\n",
        "        return True\n",
        "    return False\n",
        "\n",
        "# Extract contacts\n",
        "def find_contact(s):\n",
        "    s=s.split(\":\")\n",
        "    if len(s)==2:\n",
        "        return True\n",
        "    else:\n",
        "        return False\n",
        "\n",
        "# Extract Message\n",
        "def getMassage(line):\n",
        "    splitline=line.split(' - ')\n",
        "    datetime= splitline[0];\n",
        "    date, time= datetime.split(', ')\n",
        "    message=\" \".join(splitline[1:])\n",
        "\n",
        "    if find_contact(message):\n",
        "        splitmessage=message.split(\": \")\n",
        "        author=splitmessage[0]\n",
        "        message=splitmessage[1]\n",
        "    else:\n",
        "        author=None\n",
        "    return date, time, author, message"
      ],
      "metadata": {
        "id": "YLkQ5pUmh1WP"
      },
      "execution_count": null,
      "outputs": []
    },
    {
      "cell_type": "code",
      "source": [
        "data=[]\n",
        "conversation='grpchat.txt'\n",
        "with open(conversation, encoding=\"utf-8\") as fp:\n",
        "    fp.readline()\n",
        "    messageBuffer=[]\n",
        "    date, time, author= None, None, None\n",
        "    while True:\n",
        "        line=fp.readline()\n",
        "        if not line:\n",
        "            break\n",
        "        line=line.strip()\n",
        "        if date_time(line):\n",
        "            if len(messageBuffer) >0:\n",
        "                data.append([date, time, author, ''.join(messageBuffer)])\n",
        "            messageBuffer.clear()\n",
        "            date, time, author, message=getMassage(line)\n",
        "            messageBuffer.append(message)\n",
        "        else:\n",
        "            messageBuffer.append(line)"
      ],
      "metadata": {
        "id": "Nt5sGWyfhqmK"
      },
      "execution_count": 68,
      "outputs": []
    },
    {
      "cell_type": "markdown",
      "source": [
        "# Analyze Sentiment"
      ],
      "metadata": {
        "id": "vcjly0CU-exI"
      }
    },
    {
      "cell_type": "code",
      "source": [
        "df=pd.DataFrame(data, columns=[\"Date\", \"Time\", \"contact\", \"Message\"])\n",
        "df['Date']=pd.to_datetime(df['Date'])\n",
        "\n",
        "data=df.dropna()\n",
        "from nltk.sentiment.vader import SentimentIntensityAnalyzer\n",
        "sentiments=SentimentIntensityAnalyzer()\n",
        "data[\"positive\"]=[sentiments.polarity_scores(i)[\"pos\"] for i in data[\"Message\"]]\n",
        "data[\"negative\"]=[sentiments.polarity_scores(i)[\"neg\"] for i in data[\"Message\"]]\n",
        "data[\"neutral\"]=[sentiments.polarity_scores(i)[\"neu\"] for i in data[\"Message\"]]"
      ],
      "metadata": {
        "id": "UdnmUHPt9-6C"
      },
      "execution_count": 71,
      "outputs": []
    },
    {
      "cell_type": "code",
      "source": [
        "x=sum(data['positive'])\n",
        "y=sum(data['negative'])\n",
        "z=sum(data['neutral'])\n",
        "\n",
        "def score(a,b,c):\n",
        "  if(a>b) and (a>c):\n",
        "    print(\"Sentiment: Positive\")\n",
        "  elif (b>a) and (b>c):\n",
        "    print(\"Sentiment: Negative\")\n",
        "  else:\n",
        "    print(\"Sentiment: Neutral\")\n",
        "\n",
        "score(x,y,z)"
      ],
      "metadata": {
        "colab": {
          "base_uri": "https://localhost:8080/"
        },
        "id": "WkNuMEXWNi_q",
        "outputId": "9947049f-b5d0-4a2c-9c64-26d79c2bdabe"
      },
      "execution_count": null,
      "outputs": [
        {
          "output_type": "stream",
          "name": "stdout",
          "text": [
            "Sentiment: Negative\n"
          ]
        }
      ]
    },
    {
      "cell_type": "code",
      "source": [],
      "metadata": {
        "id": "m9xg3ZLxOy7C"
      },
      "execution_count": null,
      "outputs": []
    }
  ]
}